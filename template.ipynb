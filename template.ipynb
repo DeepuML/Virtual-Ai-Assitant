{
 "cells": [
  {
   "cell_type": "code",
   "execution_count": 1,
   "id": "19383c35",
   "metadata": {},
   "outputs": [
    {
     "name": "stderr",
     "output_type": "stream",
     "text": [
      "[2025-07-24 20:02:21,475]: Creating directory; src for the file: __init__.py:\n",
      "[2025-07-24 20:02:21,483]: Creating empty file: src\\__init__.py:\n",
      "[2025-07-24 20:02:21,483]: Creating directory; src for the file: helper.py:\n",
      "[2025-07-24 20:02:21,486]: Creating empty file: src\\helper.py:\n",
      "[2025-07-24 20:02:21,486]: Creating empty file: .env:\n",
      "[2025-07-24 20:02:21,486]: Creating empty file: requirements.txt:\n",
      "[2025-07-24 20:02:21,486]: Creating empty file: setup.py:\n",
      "[2025-07-24 20:02:21,486]: Creating empty file: app.py:\n",
      "[2025-07-24 20:02:21,493]: Creating directory; research for the file: trials.ipynb:\n",
      "[2025-07-24 20:02:21,493]: Creating empty file: research\\trials.ipynb:\n"
     ]
    }
   ],
   "source": [
    "import os\n",
    "import logging\n",
    "from pathlib import Path\n",
    "\n",
    "logging.basicConfig(level=logging.INFO, format='[%(asctime)s]: %(message)s:')\n",
    "\n",
    "list_of_files = [\n",
    "    \"src/__init__.py\",\n",
    "    \"src/helper.py\",\n",
    "    \".env\",\n",
    "    \"requirements.txt\",\n",
    "    \"setup.py\",\n",
    "    \"app.py\",\n",
    "    \"research/trials.ipynb\"\n",
    "]\n",
    "\n",
    "\n",
    "for filepath in list_of_files:\n",
    "    filepath = Path(filepath)\n",
    "    filedir, filename = os.path.split(filepath)\n",
    "\n",
    "\n",
    "    if filedir !=\"\":\n",
    "        os.makedirs(filedir, exist_ok=True)\n",
    "        logging.info(f\"Creating directory; {filedir} for the file: {filename}\")\n",
    "\n",
    "    if (not os.path.exists(filepath)) or (os.path.getsize(filepath) == 0):\n",
    "        with open(filepath, \"w\") as f:\n",
    "            pass\n",
    "            logging.info(f\"Creating empty file: {filepath}\")\n",
    "\n",
    "\n",
    "    else:\n",
    "        logging.info(f\"{filename} is already exists\")"
   ]
  },
  {
   "cell_type": "code",
   "execution_count": null,
   "id": "146eb077",
   "metadata": {},
   "outputs": [],
   "source": []
  }
 ],
 "metadata": {
  "kernelspec": {
   "display_name": "agentic_ai",
   "language": "python",
   "name": "python3"
  },
  "language_info": {
   "codemirror_mode": {
    "name": "ipython",
    "version": 3
   },
   "file_extension": ".py",
   "mimetype": "text/x-python",
   "name": "python",
   "nbconvert_exporter": "python",
   "pygments_lexer": "ipython3",
   "version": "3.11.13"
  }
 },
 "nbformat": 4,
 "nbformat_minor": 5
}
